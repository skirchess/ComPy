{
 "cells": [
  {
   "cell_type": "code",
   "execution_count": 1,
   "id": "467e3d60-512b-4872-843c-5045c12fd4e8",
   "metadata": {},
   "outputs": [
    {
     "name": "stdout",
     "output_type": "stream",
     "text": [
      "[[4.0, -1.0, 0.0, -1.0, 0.0, 0.0], [-1.0, 4.0, -1.0, 0.0, -1.0, 0.0], [0.0, -1.0, 4.0, 0.0, 0.0, -1.0], [-1.0, 0.0, 0.0, 4.0, -1.0, 0.0], [0.0, -1.0, 0.0, -1.0, 4.0, -1.0], [0.0, 0.0, -1.0, 0.0, -1.0, 4.0]]\n",
      "\n",
      "[[2.0], [1.0], [2.0], [2.0], [1.0], [2.0]]\n",
      "\n",
      "[[1.0, -1.0, 4.0, 0.0, 2.0, 9.0], [0.0, 5.0, -2.0, 7.0, 8.0, 4.0], [1.0, 0.0, 5.0, 7.0, 3.0, -2.0], [6.0, -1.0, 2.0, 3.0, 0.0, 8.0], [-4.0, 2.0, 0.0, 5.0, -5.0, 3.0], [0.0, 7.0, -1.0, 5.0, 4.0, -2.0]]\n",
      "\n",
      "[[19.0], [2.0], [13.0], [-7.0], [-9.0], [2.0]]\n"
     ]
    }
   ],
   "source": [
    "import MyLibrary as ml\n",
    "\n",
    "with open('input_a3.txt') as file:\n",
    "    a,b,c,d,e,f=[],[],[],[],[],[]\n",
    "    list3=[a,b,c,d,e,f]\n",
    "    j=0\n",
    "    for line in file:\n",
    "        line=line.strip().split() # split when there is an empty line\n",
    "        if len(line)!=0:\n",
    "            list3[j].append(line)\n",
    "        else:\n",
    "            j+=1\n",
    "\n",
    "    for i in range(len(list3)): # converting the list elements to matrix before & after the empty space\n",
    "        for j in range(len(list3[i])):\n",
    "            for k in range(len(list3[i][j])):\n",
    "                list3[i][j][k]=float(list3[i][j][k])\n",
    "                \n",
    "print(a)\n",
    "print()\n",
    "print(b)\n",
    "print()\n",
    "print(c)\n",
    "print()\n",
    "print(d)"
   ]
  },
  {
   "cell_type": "markdown",
   "id": "3a594e9b-1b3a-400e-96de-a80f732c6483",
   "metadata": {},
   "source": [
    "# 2"
   ]
  },
  {
   "cell_type": "code",
   "execution_count": 2,
   "id": "7c5cc8a4-237d-491a-9337-d6eef617e089",
   "metadata": {},
   "outputs": [
    {
     "name": "stdout",
     "output_type": "stream",
     "text": [
      "Iterations= 17\n",
      "Solution= [[0.9999999100460266], [0.9999999232194811], [0.9999999672318639], [0.9999999457079745], [0.9999999536588575], [0.9999999802226803]]\n"
     ]
    }
   ],
   "source": [
    "ml.gauss_seidel(a,b)"
   ]
  },
  {
   "cell_type": "code",
   "execution_count": 3,
   "id": "75a7943f-0cc8-4922-a4f6-460e48e55353",
   "metadata": {},
   "outputs": [
    {
     "name": "stdout",
     "output_type": "stream",
     "text": [
      "lower\n",
      "[2.0, 0, 0, 0, 0, 0]\n",
      "[-0.5, 1.9364916731037085, 0, 0, 0, 0]\n",
      "[0.0, -0.5163977794943222, 1.9321835661585918, 0, 0, 0]\n",
      "[-0.5, -0.12909944487358055, -0.034503277967117704, 1.9318754766140744, 0, 0]\n",
      "[0.0, -0.5163977794943222, -0.13801311186847082, -0.5546053999849018, 1.8457244010396843, 0]\n",
      "[0.0, 0.0, -0.5175491695067657, -0.009243423333081693, -0.5832696492049564, 1.841698654119145]\n",
      "upper\n",
      "[2.0, -0.5, 0.0, -0.5, 0.0, 0.0]\n",
      "[0, 1.9364916731037085, -0.5163977794943222, -0.12909944487358055, -0.5163977794943222, 0.0]\n",
      "[0, 0, 1.9321835661585918, -0.034503277967117704, -0.13801311186847082, -0.5175491695067657]\n",
      "[0, 0, 0, 1.9318754766140744, -0.5546053999849018, -0.009243423333081693]\n",
      "[0, 0, 0, 0, 1.8457244010396843, -0.5832696492049564]\n",
      "[0, 0, 0, 0, 0, 1.841698654119145]\n",
      "after forward subs [1.0, 0.7745966692414834, 1.2421180068162376, 1.368026653296091, 1.262454751834728, 1.841698654119145]\n",
      "solution [1.0, 0.9999999999999999, 1.0, 1.0, 1.0, 1.0]\n"
     ]
    }
   ],
   "source": [
    "mat=ml.cholesky(a)\n",
    "mat1=ml.transpose(mat)\n",
    "print('lower')\n",
    "ml.patrix(mat)\n",
    "print('upper')\n",
    "ml.patrix(mat1)\n",
    "y=ml.chol_fsub(mat,b)\n",
    "print('after forward subs',y)\n",
    "x=ml.chol_bsub(mat1,y)\n",
    "print('solution',x)"
   ]
  },
  {
   "cell_type": "markdown",
   "id": "c81ee430-ab22-46fc-9194-6ccf053df693",
   "metadata": {},
   "source": [
    "# 1"
   ]
  },
  {
   "cell_type": "code",
   "execution_count": 4,
   "id": "28da3a9e-63ec-4647-88f8-dcff0786c3b2",
   "metadata": {},
   "outputs": [
    {
     "name": "stdout",
     "output_type": "stream",
     "text": [
      "after forward subs [19.0, 2.0, -6.399999999999999, -214.42857142857142, -12.25, -7.842805005213755]\n",
      "solution [9.5, 1.0327955589886444, -3.3123146848432996, -110.995027383645, -6.636960530564399, -4.25846269023031]\n"
     ]
    }
   ],
   "source": [
    "decomp=ml.lud(c)\n",
    "y=ml.fsub(c,d)\n",
    "print('after forward subs',y)\n",
    "x=ml.chol_bsub(a,y)\n",
    "print(\"solution\",x)"
   ]
  }
 ],
 "metadata": {
  "kernelspec": {
   "display_name": "Python 3 (ipykernel)",
   "language": "python",
   "name": "python3"
  },
  "language_info": {
   "codemirror_mode": {
    "name": "ipython",
    "version": 3
   },
   "file_extension": ".py",
   "mimetype": "text/x-python",
   "name": "python",
   "nbconvert_exporter": "python",
   "pygments_lexer": "ipython3",
   "version": "3.9.9"
  }
 },
 "nbformat": 4,
 "nbformat_minor": 5
}
