{
 "cells": [
  {
   "cell_type": "markdown",
   "id": "d5593287-7dbc-4bbf-a97d-59359a66889b",
   "metadata": {
    "tags": []
   },
   "source": [
    "# 1"
   ]
  },
  {
   "cell_type": "code",
   "execution_count": 1,
   "id": "3376e9c4-0f66-41ab-910c-35522edad0b4",
   "metadata": {},
   "outputs": [
    {
     "name": "stdout",
     "output_type": "stream",
     "text": [
      "Bisection\n",
      "1.5 3.0 0\n",
      "2.25 3.0 1\n",
      "2.25 2.625 2\n",
      "2.4375 2.625 3\n",
      "2.53125 2.625 4\n",
      "2.578125 2.625 5\n",
      "2.6015625 2.625 6\n",
      "2.6132812 2.625 7\n",
      "2.6191406 2.625 8\n",
      "2.6220703 2.625 9\n",
      "2.6220703 2.6235352 10\n",
      "2.6228027 2.6235352 11\n",
      "2.6228027 2.6231689 12\n",
      "2.6229858 2.6231689 13\n",
      "2.6230774 2.6231689 14\n",
      "2.6231232 2.6231689 15\n",
      "2.6231232 2.6231461 16\n",
      "2.6231346 2.6231461 17\n",
      "2.6231403 2.6231461 18\n",
      "2.6231403 2.6231432 19\n",
      "2.6231403 2.6231418 20\n",
      "2.6231403 2.6231411 21\n",
      "(2.6231403, 2.6231411, 21)\n",
      "\n",
      "Regula-Falsi\n",
      "2.5 11.8017244 0\n",
      "3.0 2.6492454 1\n",
      "2.6492454 2.616595 2\n",
      "2.6492454 2.6232104 3\n",
      "2.6232104 2.6231405 4\n",
      "(2.6231405, 2.6231405, 4)\n"
     ]
    }
   ],
   "source": [
    "import MyLibrary as ml\n",
    "def f(x):\n",
    "    import math\n",
    "    return math.log(x/2)-math.sin(5*x/2)\n",
    "\n",
    "print('Bisection')\n",
    "print(ml.bisection(f,1.5,2.5,0.000001,0.000001,0))\n",
    "print()\n",
    "print('Regula-Falsi')\n",
    "print(ml.regula(f,1.5,2.5,0.000001,0.000001))"
   ]
  },
  {
   "cell_type": "markdown",
   "id": "738fb3e4-2da3-44b8-9b7c-a0b709be4d5e",
   "metadata": {
    "tags": []
   },
   "source": [
    "# 2"
   ]
  },
  {
   "cell_type": "code",
   "execution_count": 2,
   "id": "fd64d4ff-e381-4e7d-ad33-39cc0e3d7a4a",
   "metadata": {},
   "outputs": [
    {
     "name": "stdout",
     "output_type": "stream",
     "text": [
      "Bisection\n",
      "-2 1 0\n",
      "-2 -0.5 1\n",
      "-1.25 -0.5 2\n",
      "-0.875 -0.5 3\n",
      "-0.875 -0.6875 4\n",
      "-0.78125 -0.6875 5\n",
      "-0.78125 -0.734375 6\n",
      "-0.7578125 -0.734375 7\n",
      "-0.7460938 -0.734375 8\n",
      "-0.7402344 -0.734375 9\n",
      "-0.7402344 -0.7373047 10\n",
      "-0.7402344 -0.7387695 11\n",
      "-0.739502 -0.7387695 12\n",
      "-0.7391357 -0.7387695 13\n",
      "-0.7391357 -0.7389526 14\n",
      "-0.7391357 -0.7390442 15\n",
      "-0.73909 -0.7390442 16\n",
      "-0.73909 -0.7390671 17\n",
      "-0.73909 -0.7390785 18\n",
      "-0.73909 -0.7390842 19\n",
      "-0.7390871 -0.7390842 20\n",
      "-0.7390857 -0.7390842 21\n",
      "-0.7390857 -0.739085 22\n",
      "(-0.7390857, -0.739085, 22)\n",
      "\n",
      "Regula-Falsi\n",
      "-0.167943 -0.6313127 1\n",
      "-0.6313127 -0.7242138 2\n",
      "-0.7242138 -0.7371793 3\n",
      "-0.7371793 -0.7388435 4\n",
      "-0.7388435 -0.7390545 5\n",
      "-0.7390545 -0.7390813 6\n",
      "-0.7390813 -0.7390846 7\n",
      "(-0.7390846, -0.7390846, 7)\n",
      "\n",
      "Newton-Raphson\n",
      "-0.7390897242053693 -0.7345361688544632\n",
      "-0.7390851332198145 -0.7390897242053693\n",
      "-0.7390851332151607 -0.7390851332198145\n",
      "(-0.7390851332151607, -0.7390851332198145, 3)\n"
     ]
    }
   ],
   "source": [
    "import math\n",
    "def f(x):\n",
    "    return -x-math.cos(x)\n",
    "\n",
    "def fd(x):\n",
    "    return -1+math.sin(x)\n",
    "\n",
    "print('Bisection')\n",
    "print(ml.bisection(f,-2,1,0.000001,0.000001,0))\n",
    "print()\n",
    "print('Regula-Falsi')\n",
    "print(ml.regula(f,-2,1,0.000001,0.000001))\n",
    "print()\n",
    "print('Newton-Raphson')\n",
    "print(ml.newraph(f,fd,-2,0.000001,0.000001))"
   ]
  },
  {
   "cell_type": "markdown",
   "id": "baf74641-bb02-423f-81bd-8fd20a599243",
   "metadata": {
    "tags": []
   },
   "source": [
    "# 3"
   ]
  },
  {
   "cell_type": "code",
   "execution_count": 3,
   "id": "b2fc4bfc-861e-4191-979c-449db9b58a9f",
   "metadata": {},
   "outputs": [
    {
     "name": "stdout",
     "output_type": "stream",
     "text": [
      "solutions=\n",
      "2.000000000032683\n",
      "1.0000000000350453\n",
      "-1.00000000023587\n",
      "-1.9999999998318585\n"
     ]
    }
   ],
   "source": [
    "print('solutions=')\n",
    "ml.laguerre([1,0,-5,0,4], 5)"
   ]
  },
  {
   "cell_type": "markdown",
   "id": "8aa93887-8456-44a2-bd1d-4b8cf3f34431",
   "metadata": {
    "tags": []
   },
   "source": [
    "# 4"
   ]
  },
  {
   "cell_type": "code",
   "execution_count": 4,
   "id": "3db627f3-7b03-40f4-bb4f-7a396e973ce0",
   "metadata": {},
   "outputs": [],
   "source": [
    "data= [i.strip().split() for i in open(\"assign4fit.txt\").readlines()] # reading data file\n",
    "x,y=[],[]\n",
    "for i in range(len(data)):\n",
    "    x.append(float(data[i][0])) #xdata\n",
    "    y.append(float(data[i][1])) #ydata\n",
    "#print(x,y)"
   ]
  },
  {
   "cell_type": "code",
   "execution_count": 5,
   "id": "23393695-078d-478c-8aa0-2f9798d22449",
   "metadata": {},
   "outputs": [
    {
     "name": "stdout",
     "output_type": "stream",
     "text": [
      "solution [0.5746586674195864, 4.725861442142238, -11.128217777644013, 7.668677622909927]\n"
     ]
    },
    {
     "data": {
      "text/plain": [
       "<matplotlib.collections.PathCollection at 0x1110fa340>"
      ]
     },
     "execution_count": 5,
     "metadata": {},
     "output_type": "execute_result"
    },
    {
     "data": {
      "image/png": "[encoded data removed]",
      "text/plain": [
       "<Figure size 432x288 with 1 Axes>"
      ]
     },
     "metadata": {
      "needs_background": "light"
     },
     "output_type": "display_data"
    }
   ],
   "source": [
    "def pol(a,b,c,d,r):\n",
    "    return a*r**3+b*r**2+c*r+d\n",
    "\n",
    "# solving to get coefficients\n",
    "M=ml.polycoeff(x,y,3)\n",
    "mat=ml.cholesky(M[0]) #M[0] is X, M[1] is Y\n",
    "mat1=ml.transpose(mat)\n",
    "sol=ml.chol_bsub(mat1,ml.chol_fsub(mat,M[1]))\n",
    "print('solution',sol) #sol=bsub(mat1,coeff)\n",
    "\n",
    "#To plot function\n",
    "v=[] # h,v are continuous coordinates to plot fit line\n",
    "h=[x * 0.01 for x in range(-5,5*len(x))]  \n",
    "for i in range(len(h)):\n",
    "    j=pol(sol[3],sol[2],sol[1],sol[0],h[i])\n",
    "    v.append(j)\n",
    "import matplotlib.pyplot as plt\n",
    "plt.plot(h,v,'r')\n",
    "plt.scatter(x,y)"
   ]
  }
 ],
 "metadata": {
  "kernelspec": {
   "display_name": "Python 3 (ipykernel)",
   "language": "python",
   "name": "python3"
  },
  "language_info": {
   "codemirror_mode": {
    "name": "ipython",
    "version": 3
   },
   "file_extension": ".py",
   "mimetype": "text/x-python",
   "name": "python",
   "nbconvert_exporter": "python",
   "pygments_lexer": "ipython3",
   "version": "3.9.9"
  }
 },
 "nbformat": 4,
 "nbformat_minor": 5
}
