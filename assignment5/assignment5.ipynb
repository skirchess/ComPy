{
 "cells": [
  {
   "cell_type": "markdown",
   "id": "96a83467-0233-42e1-8283-6438295b5ea4",
   "metadata": {},
   "source": [
    "# 1"
   ]
  },
  {
   "cell_type": "code",
   "execution_count": 1,
   "id": "6b60902f-62cc-4427-b94c-a0dda00696d1",
   "metadata": {},
   "outputs": [
    {
     "name": "stdout",
     "output_type": "stream",
     "text": [
      "Method        N=10     N=20     N=30\n",
      "---------  -------  -------  -------\n",
      "Mid-point  3.61898  3.61988  3.62005\n",
      "Trapezoid  3.62261  3.62079  3.62046\n",
      "Simpson's  3.62025  3.62019  3.62019\n"
     ]
    }
   ],
   "source": [
    "def f1(x):\n",
    "    return (1+(1/x))**0.5\n",
    "\n",
    "import MyLibrary as ml\n",
    "from tabulate import tabulate\n",
    "\n",
    "data = [[\"Mid-point\",ml.intmidpt(f1,1,4,10),ml.intmidpt(f1,1,4,20),ml.intmidpt(f1,1,4,30)],\n",
    "[\"Trapezoid\",ml.tpz(f1,1,4,10),ml.tpz(f1,1,4,20),ml.tpz(f1,1,4,30)],\n",
    "[\"Simpson's\",ml.simpson(f1,1,4,10),ml.simpson(f1,1,4,20),ml.simpson(f1,1,4,30)]]\n",
    "\n",
    "headers=[\"Method\", \"N=10\", \"N=20\", \"N=30\"]\n",
    "\n",
    "print (tabulate(data, headers))"
   ]
  },
  {
   "cell_type": "markdown",
   "id": "73b2e025-990e-4b9c-8ba7-070a62ef2f14",
   "metadata": {},
   "source": [
    "# 2"
   ]
  },
  {
   "cell_type": "code",
   "execution_count": 2,
   "id": "932f9e60-0352-457f-b51e-2a83535ccfca",
   "metadata": {},
   "outputs": [
    {
     "name": "stdout",
     "output_type": "stream",
     "text": [
      "Integral= 0.5453487003378918\n"
     ]
    }
   ],
   "source": [
    "def f(x):  #integrand\n",
    "    import math\n",
    "    return (math.sin(x))**2\n",
    "\n",
    "def p(x): #pdf\n",
    "    a,b=-1,1\n",
    "    return 1/(b-a)\n",
    "\n",
    "print('Integral=',ml.montecarlo(f,p,-1,1,10000000))"
   ]
  },
  {
   "cell_type": "markdown",
   "id": "cfa5e2ef-69c3-420f-9dd5-395b4c0eab68",
   "metadata": {},
   "source": [
    "# 3"
   ]
  },
  {
   "cell_type": "code",
   "execution_count": 3,
   "id": "050739b5-03d5-49b7-8b23-0b20a96324ee",
   "metadata": {},
   "outputs": [
    {
     "name": "stdout",
     "output_type": "stream",
     "text": [
      "Center of Mass= 1.4999028530889384\n"
     ]
    }
   ],
   "source": [
    "def num(x):\n",
    "    return x*x**2 # numerator=x times linear mass density\n",
    "\n",
    "def den(x):\n",
    "    return x**2 # denominator=linear mass density\n",
    "\n",
    "def p(x):  #pdf\n",
    "    a,b=0,2\n",
    "    return 1/(b-a)\n",
    "\n",
    "print('Center of Mass=',ml.montecarlo(num,p,0,2,1000000)/ml.montecarlo(den,p,0,2,1000000))"
   ]
  },
  {
   "cell_type": "code",
   "execution_count": null,
   "id": "777f3c28-ea69-4b64-9d18-16732bde9976",
   "metadata": {},
   "outputs": [],
   "source": []
  }
 ],
 "metadata": {
  "kernelspec": {
   "display_name": "Python 3 (ipykernel)",
   "language": "python",
   "name": "python3"
  },
  "language_info": {
   "codemirror_mode": {
    "name": "ipython",
    "version": 3
   },
   "file_extension": ".py",
   "mimetype": "text/x-python",
   "name": "python",
   "nbconvert_exporter": "python",
   "pygments_lexer": "ipython3",
   "version": "3.9.9"
  }
 },
 "nbformat": 4,
 "nbformat_minor": 5
}
