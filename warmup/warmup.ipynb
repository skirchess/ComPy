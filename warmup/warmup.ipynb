{
 "cells": [
  {
   "cell_type": "code",
   "execution_count": 1322,
   "id": "60cde7d0-4d78-4fac-b099-5ae2d24e22ea",
   "metadata": {},
   "outputs": [],
   "source": [
    "with open('input_1.txt') as f: # input_1.txt contains input for question 1,2,3,5\n",
    "    lines = [ line.strip() for line in f ]\n",
    "    list1=[]\n",
    "    for k in lines:\n",
    "        list1.append(float(k)) # converting string to float\n",
    "        \n",
    "#list1"
   ]
  },
  {
   "cell_type": "markdown",
   "id": "2553b95c-dbf3-4b2d-8e38-73915eb1f84a",
   "metadata": {},
   "source": [
    "# 1"
   ]
  },
  {
   "cell_type": "code",
   "execution_count": 1323,
   "id": "fcaaae37-7f73-479a-9f63-0bd96c01e495",
   "metadata": {},
   "outputs": [
    {
     "name": "stdout",
     "output_type": "stream",
     "text": [
      "8 ! = 40320\n",
      "Sum of first 4 odd terms= 16\n"
     ]
    }
   ],
   "source": [
    "import MyLibrary\n",
    "MyLibrary.factorial(list1[0])\n",
    "MyLibrary.oddsum(list1[1])"
   ]
  },
  {
   "cell_type": "markdown",
   "id": "14bdafe5-b733-460b-b415-541bc2e201aa",
   "metadata": {},
   "source": [
    "# 2"
   ]
  },
  {
   "cell_type": "code",
   "execution_count": 1324,
   "id": "16eaa144-1be2-46f9-8590-3840f866382b",
   "metadata": {},
   "outputs": [
    {
     "name": "stdout",
     "output_type": "stream",
     "text": [
      "Sum of first 5 terms of AP= 20.0\n",
      "Sum of first 5 terms of GP= 3.875\n",
      "Sum of first 5 terms of HP= 3.1395604395604395\n"
     ]
    }
   ],
   "source": [
    "MyLibrary.apsum(list1[2],list1[3],int(list1[4]))\n",
    "MyLibrary.gpsum(list1[5],list1[6],int(list1[7]))\n",
    "MyLibrary.hpsum(list1[8],list1[9],int(list1[10]))"
   ]
  },
  {
   "cell_type": "markdown",
   "id": "7f5c4596-acd4-4a30-99db-20095b6f8be8",
   "metadata": {
    "tags": []
   },
   "source": [
    "# 3"
   ]
  },
  {
   "cell_type": "code",
   "execution_count": 1325,
   "id": "b351e4de-f059-4d57-b6bb-201726465ed6",
   "metadata": {},
   "outputs": [
    {
     "name": "stdout",
     "output_type": "stream",
     "text": [
      "Sum of series 0.3333\n"
     ]
    },
    {
     "data": {
      "image/png": "[encoded data removed]",
      "text/plain": [
       "<Figure size 432x288 with 1 Axes>"
      ]
     },
     "metadata": {
      "needs_background": "light"
     },
     "output_type": "display_data"
    }
   ],
   "source": [
    "MyLibrary.series(list1[11])"
   ]
  },
  {
   "cell_type": "markdown",
   "id": "eceb85bf-43db-46b6-9962-30a367237897",
   "metadata": {},
   "source": [
    "# 4"
   ]
  },
  {
   "cell_type": "code",
   "execution_count": 1326,
   "id": "ddfd55db-7859-4d71-b39f-a8b30757b7fc",
   "metadata": {},
   "outputs": [],
   "source": [
    "with open('input_2.txt') as f:\n",
    "    a,b,c,d=[],[],[],[]\n",
    "    list3=[a,b,c,d]\n",
    "    j=0\n",
    "    for line in f:\n",
    "        line=line.strip().split() # split when there is an empty line\n",
    "        if len(line)!=0:\n",
    "            list3[j].append(line)\n",
    "        else:\n",
    "            j+=1\n",
    "\n",
    "    for i in range(len(list3)): # converting the list elements to matrix before & after the empty space\n",
    "        for j in range(len(list3[i])):\n",
    "            for k in range(len(list3[i][j])):\n",
    "                list3[i][j][k]=float(list3[i][j][k])\n",
    "        \n",
    "#print(a,b,c,d)"
   ]
  },
  {
   "cell_type": "code",
   "execution_count": 1327,
   "id": "803e23fd-d693-4269-b912-61ff80116f00",
   "metadata": {},
   "outputs": [
    {
     "name": "stdout",
     "output_type": "stream",
     "text": [
      "[-0.3000000000000007, -3.5, 5.2]\n",
      "[-4.5, -2.0, 4.5]\n",
      "[9.3, 0.8, -7.0]\n"
     ]
    }
   ],
   "source": [
    "MyLibrary.matrixmult(a,b)"
   ]
  },
  {
   "cell_type": "code",
   "execution_count": 1328,
   "id": "bd15e149-03fa-451d-8f77-5d8ed31c80ab",
   "metadata": {},
   "outputs": [
    {
     "name": "stdout",
     "output_type": "stream",
     "text": [
      "[1.0]\n",
      "[-5.75]\n",
      "[-9.0]\n"
     ]
    }
   ],
   "source": [
    "MyLibrary.matrixmult(b,c)"
   ]
  },
  {
   "cell_type": "code",
   "execution_count": 1329,
   "id": "6201e639-ffa5-4739-9c0a-8b9ab843c8ad",
   "metadata": {},
   "outputs": [
    {
     "name": "stdout",
     "output_type": "stream",
     "text": [
      "-3.5\n"
     ]
    }
   ],
   "source": [
    "MyLibrary.dotprod(c,d)"
   ]
  },
  {
   "cell_type": "markdown",
   "id": "4e61d260-78f7-42ae-bbc2-254aca576f73",
   "metadata": {},
   "source": [
    "# 5"
   ]
  },
  {
   "cell_type": "code",
   "execution_count": 1330,
   "id": "8a8174e7-9b33-4f6c-80c8-72b9518b34a3",
   "metadata": {},
   "outputs": [
    {
     "name": "stdout",
     "output_type": "stream",
     "text": [
      "3.0 -2.0 i\n",
      "1.0 +2.0 i\n",
      "4.0 +0.0 i\n",
      "7.0 +4.0 i\n",
      "3.605551275463989\n",
      "2.23606797749979\n"
     ]
    }
   ],
   "source": [
    "c1=MyLibrary.myComplex(list1[12],list1[13])\n",
    "MyLibrary.myComplex.show(c1)\n",
    "\n",
    "c2=MyLibrary.myComplex(list1[14],list1[15])\n",
    "MyLibrary.myComplex.show(c2)\n",
    "\n",
    "addition=c1.add(c2) # adding complex no. c1 and c2\n",
    "MyLibrary.myComplex.show(addition)\n",
    "\n",
    "product=c1.prod(c2) # product of complex no. c1 with c2\n",
    "MyLibrary.myComplex.show(product)\n",
    "\n",
    "modulus1= c1.mod()\n",
    "modulus2= c2.mod()"
   ]
  },
  {
   "cell_type": "code",
   "execution_count": null,
   "id": "7bac0c28-f108-4939-a643-d107e5c156b7",
   "metadata": {},
   "outputs": [],
   "source": []
  }
 ],
 "metadata": {
  "kernelspec": {
   "display_name": "Python 3 (ipykernel)",
   "language": "python",
   "name": "python3"
  },
  "language_info": {
   "codemirror_mode": {
    "name": "ipython",
    "version": 3
   },
   "file_extension": ".py",
   "mimetype": "text/x-python",
   "name": "python",
   "nbconvert_exporter": "python",
   "pygments_lexer": "ipython3",
   "version": "3.9.9"
  }
 },
 "nbformat": 4,
 "nbformat_minor": 5
}
