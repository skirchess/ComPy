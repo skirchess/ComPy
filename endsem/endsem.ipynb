{
 "cells": [
  {
   "cell_type": "markdown",
   "id": "01b7118b-14da-4525-95a8-cff1ef427b89",
   "metadata": {},
   "source": [
    "# Endsem"
   ]
  },
  {
   "cell_type": "code",
   "execution_count": 1,
   "id": "7a7f5592-b5c3-4fbf-90d3-681789770a5e",
   "metadata": {},
   "outputs": [],
   "source": [
    "import MyLibrary as ml\n",
    "import numpy as np\n",
    "import matplotlib.pyplot as plt\n",
    "import math"
   ]
  },
  {
   "cell_type": "markdown",
   "id": "d63225a3-729a-421b-a012-b94fafa3efcf",
   "metadata": {},
   "source": [
    "# 7"
   ]
  },
  {
   "cell_type": "code",
   "execution_count": 7,
   "id": "3db9bf6d-4fde-4651-b604-c852961a93be",
   "metadata": {},
   "outputs": [
    {
     "name": "stdout",
     "output_type": "stream",
     "text": [
      "X= [-2.0, -1.84, -1.68, -1.52, -1.36, -1.2, -1.04, -0.88, -0.72, -0.56, -0.4, -0.24, -0.08, 0.08, 0.24, 0.4, 0.56, 0.72, 0.88, 1.04, 1.2, 1.36, 1.52, 1.68, 1.84, 2.0]\n",
      "Y= [7.42, 6.328, 4.357, 3.885, 3.488, 2.644, 1.63, 1.526, 1.209, 0.758, 0.902, 0.57, 0.193, 0.2, -0.428, -0.311, -0.467, -1.0, -1.676, -2.065, -3.201, -4.801, -5.382, -6.461, -8.355, -10.18]\n"
     ]
    },
    {
     "data": {
      "text/plain": [
       "Text(0, 0.5, 'Y')"
      ]
     },
     "execution_count": 7,
     "metadata": {},
     "output_type": "execute_result"
    },
    {
     "data": {
      "image/png": "[encoded data removed]",
      "text/plain": [
       "<Figure size 432x288 with 1 Axes>"
      ]
     },
     "metadata": {
      "needs_background": "light"
     },
     "output_type": "display_data"
    }
   ],
   "source": [
    "#for reading data from file \n",
    "data= [i.strip().split() for i in open(\"esem4fit.txt\").readlines()]\n",
    "x,y=[],[]\n",
    "for i in range(len(data)):\n",
    "    x.append(float(data[i][0]))\n",
    "    y.append(float(data[i][1]))\n",
    "print('X=',x)\n",
    "print('Y=',y)\n",
    "import matplotlib.pyplot as plt\n",
    "plt.scatter(x,y)\n",
    "plt.xlabel('X')\n",
    "plt.ylabel('Y')"
   ]
  },
  {
   "cell_type": "code",
   "execution_count": 8,
   "id": "ec466e6f-058f-4a9c-bfa4-cafca0c8a034",
   "metadata": {},
   "outputs": [
    {
     "name": "stdout",
     "output_type": "stream",
     "text": [
      "solution [0.2546295072115473, -1.193759213809225, -0.45725541238296735, -0.8025653910658195, 0.013239427477396109]\n",
      "The fit parameters are, 0.013239427477396109 x^4 -0.8025653910658195 x^3 -0.45725541238296735 x^2 -1.193759213809225 x+ 0.2546295072115473\n"
     ]
    },
    {
     "data": {
      "text/plain": [
       "<matplotlib.legend.Legend at 0x107e7dac0>"
      ]
     },
     "execution_count": 8,
     "metadata": {},
     "output_type": "execute_result"
    },
    {
     "data": {
      "image/png": "[encoded data removed]",
      "text/plain": [
       "<Figure size 432x288 with 1 Axes>"
      ]
     },
     "metadata": {
      "needs_background": "light"
     },
     "output_type": "display_data"
    }
   ],
   "source": [
    "def pol(a,b,c,d,e,x):\n",
    "    return a*x**4+b*x**3+c*x**2+d*x+e\n",
    "\n",
    "# solving to get coefficients\n",
    "M=ml.polycoeff(x,y,4)\n",
    "mat=ml.cholesky(M[0]) #M[0] is X, M[1] is Y\n",
    "mat1=ml.transpose(mat)\n",
    "sol=ml.chol_bsub(mat1,ml.chol_fsub(mat,M[1]))\n",
    "print('solution',sol) #sol=bsub(mat1,coeff)\n",
    "print('The fit parameters are,', sol[4],'x^4',sol[3],'x^3',sol[2],'x^2',sol[1],'x+',sol[0])\n",
    "\n",
    "#To plot function\n",
    "h,v=np.linspace(-2,2,100),[]\n",
    "for i in range(len(h)):\n",
    "    #h.append(i)\n",
    "    j=pol(sol[4],sol[3],sol[2],sol[1],sol[0],h[i])\n",
    "    v.append(j)\n",
    "import matplotlib.pyplot as plt\n",
    "plt.plot(h,v,'r',label='fit')\n",
    "plt.scatter(x,y,label='points')\n",
    "plt.xlabel('X')\n",
    "plt.ylabel('Y')\n",
    "plt.legend()"
   ]
  },
  {
   "cell_type": "markdown",
   "id": "d94c6374-32b3-4dca-90c7-270103104260",
   "metadata": {},
   "source": [
    "# 6"
   ]
  },
  {
   "cell_type": "code",
   "execution_count": 17,
   "id": "88dcf19c-6b11-45df-bf4c-8b3eb48d6088",
   "metadata": {},
   "outputs": [
    {
     "name": "stdout",
     "output_type": "stream",
     "text": [
      "[[1.0, -2.0, 0.0, 5.0], [0.0, 7.0, 1.0, 5.0], [0.0, 4.0, 4.0, 0.0], [0.0, 0.0, 0.0, 2.0]]\n",
      "[[1.0], [2.0], [3.0]]\n",
      "[[1.0], [2.0], [3.0]]\n"
     ]
    }
   ],
   "source": [
    "with open('esem_inputs.txt') as f:\n",
    "    a,b,c,d=[],[],[],[]\n",
    "    list3=[a,b,c,d]\n",
    "    j=0\n",
    "    for line in f:\n",
    "        line=line.strip().split() # split when there is an empty line\n",
    "        if len(line)!=0:\n",
    "            list3[j].append(line)\n",
    "        else:\n",
    "            j+=1\n",
    "\n",
    "    for i in range(len(list3)): # converting the list elements to matrix before & after the empty space\n",
    "        for j in range(len(list3[i])):\n",
    "            for k in range(len(list3[i][j])):\n",
    "                list3[i][j][k]=float(list3[i][j][k])\n",
    "        \n",
    "print(a) # a is the matrix\n",
    "print(b) # b and c are guess matrices\n",
    "print(c)"
   ]
  },
  {
   "cell_type": "code",
   "execution_count": 18,
   "id": "1db9e848-7850-478a-ae6e-64e2781f98c7",
   "metadata": {},
   "outputs": [
    {
     "name": "stdout",
     "output_type": "stream",
     "text": [
      "eigenvalue= 8.0\n",
      "iterations= 8\n",
      "Normalised eigenvector= [[-0.198], [0.693], [0.693], [0.0]]\n"
     ]
    }
   ],
   "source": [
    "eigval,itr,eigvec=ml.eigen(a,b,c,0.001)  # b and c are guess\n",
    "print('eigenvalue=',eigval)\n",
    "print('iterations=',itr)\n",
    "print('Normalised eigenvector=',eigvec)"
   ]
  },
  {
   "cell_type": "markdown",
   "id": "d2a7ce42-8b53-41d2-98d6-d135b0735ffc",
   "metadata": {},
   "source": [
    "# 3"
   ]
  },
  {
   "cell_type": "code",
   "execution_count": 19,
   "id": "0e560663-5e0e-4f07-8da8-d70ff938eb3a",
   "metadata": {},
   "outputs": [],
   "source": [
    "def f(x):\n",
    "    return 2.5-x*math.exp(x)\n",
    "\n",
    "def fd(x):\n",
    "    return -math.exp(x)-x*math.exp(x)"
   ]
  },
  {
   "cell_type": "code",
   "execution_count": 20,
   "id": "dd711bcc-b9c6-4a09-84c0-11b73c996ad9",
   "metadata": {},
   "outputs": [
    {
     "name": "stdout",
     "output_type": "stream",
     "text": [
      "The spring gets stretched by 0.959\n"
     ]
    }
   ],
   "source": [
    "a,b,itr=ml.newraph(f,fd,1,0.001,0.001) # a,b are roots, itr= iterations\n",
    "print('The spring gets stretched by', round(a,3))"
   ]
  },
  {
   "cell_type": "markdown",
   "id": "34ba28b1-7d40-4a57-9571-cc393bde465e",
   "metadata": {},
   "source": [
    "# 4"
   ]
  },
  {
   "cell_type": "code",
   "execution_count": 13,
   "id": "5a29ac66-5d7e-4b1a-bd03-fe452d8de64f",
   "metadata": {
    "tags": []
   },
   "outputs": [
    {
     "ename": "ZeroDivisionError",
     "evalue": "float division by zero",
     "output_type": "error",
     "traceback": [
      "\u001b[0;31m---------------------------------------------------------------------------\u001b[0m",
      "\u001b[0;31mZeroDivisionError\u001b[0m                         Traceback (most recent call last)",
      "\u001b[0;32m/var/folders/bx/1h_ytzq13nq3l1wr2z08d4xm0000gn/T/ipykernel_35562/716933302.py\u001b[0m in \u001b[0;36m<module>\u001b[0;34m\u001b[0m\n\u001b[1;32m      8\u001b[0m \u001b[0;32mdef\u001b[0m \u001b[0mf\u001b[0m\u001b[0;34m(\u001b[0m\u001b[0mx\u001b[0m\u001b[0;34m)\u001b[0m\u001b[0;34m:\u001b[0m\u001b[0;34m\u001b[0m\u001b[0;34m\u001b[0m\u001b[0m\n\u001b[1;32m      9\u001b[0m     \u001b[0;32mreturn\u001b[0m \u001b[0;36m4\u001b[0m\u001b[0;34m*\u001b[0m\u001b[0mmath\u001b[0m\u001b[0;34m.\u001b[0m\u001b[0msqrt\u001b[0m\u001b[0;34m(\u001b[0m\u001b[0mL\u001b[0m\u001b[0;34m/\u001b[0m\u001b[0mg\u001b[0m\u001b[0;34m)\u001b[0m\u001b[0;34m*\u001b[0m\u001b[0;34m(\u001b[0m\u001b[0;36m1\u001b[0m\u001b[0;34m/\u001b[0m\u001b[0;34m(\u001b[0m\u001b[0;36m2\u001b[0m\u001b[0;34m*\u001b[0m\u001b[0ma\u001b[0m\u001b[0;34m)\u001b[0m\u001b[0;34m)\u001b[0m \u001b[0;34m*\u001b[0m \u001b[0;34m(\u001b[0m\u001b[0mmath\u001b[0m\u001b[0;34m.\u001b[0m\u001b[0mcos\u001b[0m\u001b[0;34m(\u001b[0m\u001b[0mx\u001b[0m\u001b[0;34m/\u001b[0m\u001b[0;36m2\u001b[0m\u001b[0;34m)\u001b[0m\u001b[0;34m/\u001b[0m\u001b[0;34m(\u001b[0m\u001b[0mmath\u001b[0m\u001b[0;34m.\u001b[0m\u001b[0msqrt\u001b[0m\u001b[0;34m(\u001b[0m\u001b[0;36m1\u001b[0m\u001b[0;34m-\u001b[0m\u001b[0;34m(\u001b[0m\u001b[0mmath\u001b[0m\u001b[0;34m.\u001b[0m\u001b[0msin\u001b[0m\u001b[0;34m(\u001b[0m\u001b[0mx\u001b[0m\u001b[0;34m/\u001b[0m\u001b[0;36m2\u001b[0m\u001b[0;34m)\u001b[0m\u001b[0;34m/\u001b[0m\u001b[0ma\u001b[0m\u001b[0;34m)\u001b[0m\u001b[0;34m**\u001b[0m\u001b[0;36m2\u001b[0m\u001b[0;34m)\u001b[0m\u001b[0;34m*\u001b[0m\u001b[0mmath\u001b[0m\u001b[0;34m.\u001b[0m\u001b[0msqrt\u001b[0m\u001b[0;34m(\u001b[0m\u001b[0;36m1\u001b[0m\u001b[0;34m-\u001b[0m\u001b[0;34m(\u001b[0m\u001b[0mmath\u001b[0m\u001b[0;34m.\u001b[0m\u001b[0msin\u001b[0m\u001b[0;34m(\u001b[0m\u001b[0mx\u001b[0m\u001b[0;34m/\u001b[0m\u001b[0;36m2\u001b[0m\u001b[0;34m)\u001b[0m\u001b[0;34m)\u001b[0m\u001b[0;34m**\u001b[0m\u001b[0;36m2\u001b[0m\u001b[0;34m)\u001b[0m\u001b[0;34m)\u001b[0m\u001b[0;34m)\u001b[0m\u001b[0;34m\u001b[0m\u001b[0;34m\u001b[0m\u001b[0m\n\u001b[0;32m---> 10\u001b[0;31m \u001b[0mml\u001b[0m\u001b[0;34m.\u001b[0m\u001b[0msimpson\u001b[0m\u001b[0;34m(\u001b[0m\u001b[0mf\u001b[0m\u001b[0;34m,\u001b[0m\u001b[0mlowlim\u001b[0m\u001b[0;34m,\u001b[0m\u001b[0mhighlim\u001b[0m\u001b[0;34m,\u001b[0m\u001b[0;36m10\u001b[0m\u001b[0;34m)\u001b[0m\u001b[0;34m\u001b[0m\u001b[0;34m\u001b[0m\u001b[0m\n\u001b[0m",
      "\u001b[0;32m~/Desktop/jupyter/MyLibrary.py\u001b[0m in \u001b[0;36msimpson\u001b[0;34m(f, a, b, N)\u001b[0m\n\u001b[1;32m    176\u001b[0m \u001b[0;32mdef\u001b[0m \u001b[0msimpson\u001b[0m\u001b[0;34m(\u001b[0m\u001b[0mf\u001b[0m\u001b[0;34m,\u001b[0m\u001b[0ma\u001b[0m\u001b[0;34m,\u001b[0m\u001b[0mb\u001b[0m\u001b[0;34m,\u001b[0m\u001b[0mN\u001b[0m\u001b[0;34m)\u001b[0m\u001b[0;34m:\u001b[0m  \u001b[0;31m#a,b are limits; f is integrand, N is no. of iterations\u001b[0m\u001b[0;34m\u001b[0m\u001b[0;34m\u001b[0m\u001b[0m\n\u001b[1;32m    177\u001b[0m     \u001b[0mh\u001b[0m\u001b[0;34m=\u001b[0m\u001b[0;34m(\u001b[0m\u001b[0mb\u001b[0m\u001b[0;34m-\u001b[0m\u001b[0ma\u001b[0m\u001b[0;34m)\u001b[0m\u001b[0;34m/\u001b[0m\u001b[0mN\u001b[0m   \u001b[0;31m#width\u001b[0m\u001b[0;34m\u001b[0m\u001b[0;34m\u001b[0m\u001b[0m\n\u001b[0;32m--> 178\u001b[0;31m     \u001b[0marea\u001b[0m\u001b[0;34m=\u001b[0m\u001b[0mf\u001b[0m\u001b[0;34m(\u001b[0m\u001b[0ma\u001b[0m\u001b[0;34m)\u001b[0m\u001b[0;34m+\u001b[0m\u001b[0mf\u001b[0m\u001b[0;34m(\u001b[0m\u001b[0mb\u001b[0m\u001b[0;34m)\u001b[0m  \u001b[0;31m# first and last lim are applied\u001b[0m\u001b[0;34m\u001b[0m\u001b[0;34m\u001b[0m\u001b[0m\n\u001b[0m\u001b[1;32m    179\u001b[0m     \u001b[0mx\u001b[0m\u001b[0;34m=\u001b[0m\u001b[0;34m[\u001b[0m\u001b[0ma\u001b[0m\u001b[0;34m]\u001b[0m \u001b[0;31m# a is just first element to satisfy loop\u001b[0m\u001b[0;34m\u001b[0m\u001b[0;34m\u001b[0m\u001b[0m\n\u001b[1;32m    180\u001b[0m     \u001b[0;32mfor\u001b[0m \u001b[0mi\u001b[0m \u001b[0;32min\u001b[0m \u001b[0mrange\u001b[0m\u001b[0;34m(\u001b[0m\u001b[0;36m1\u001b[0m\u001b[0;34m,\u001b[0m\u001b[0mN\u001b[0m\u001b[0;34m)\u001b[0m\u001b[0;34m:\u001b[0m \u001b[0;31m# variables ranging in b/w limits\u001b[0m\u001b[0;34m\u001b[0m\u001b[0;34m\u001b[0m\u001b[0m\n",
      "\u001b[0;32m/var/folders/bx/1h_ytzq13nq3l1wr2z08d4xm0000gn/T/ipykernel_35562/716933302.py\u001b[0m in \u001b[0;36mf\u001b[0;34m(x)\u001b[0m\n\u001b[1;32m      7\u001b[0m \u001b[0;34m\u001b[0m\u001b[0m\n\u001b[1;32m      8\u001b[0m \u001b[0;32mdef\u001b[0m \u001b[0mf\u001b[0m\u001b[0;34m(\u001b[0m\u001b[0mx\u001b[0m\u001b[0;34m)\u001b[0m\u001b[0;34m:\u001b[0m\u001b[0;34m\u001b[0m\u001b[0;34m\u001b[0m\u001b[0m\n\u001b[0;32m----> 9\u001b[0;31m     \u001b[0;32mreturn\u001b[0m \u001b[0;36m4\u001b[0m\u001b[0;34m*\u001b[0m\u001b[0mmath\u001b[0m\u001b[0;34m.\u001b[0m\u001b[0msqrt\u001b[0m\u001b[0;34m(\u001b[0m\u001b[0mL\u001b[0m\u001b[0;34m/\u001b[0m\u001b[0mg\u001b[0m\u001b[0;34m)\u001b[0m\u001b[0;34m*\u001b[0m\u001b[0;34m(\u001b[0m\u001b[0;36m1\u001b[0m\u001b[0;34m/\u001b[0m\u001b[0;34m(\u001b[0m\u001b[0;36m2\u001b[0m\u001b[0;34m*\u001b[0m\u001b[0ma\u001b[0m\u001b[0;34m)\u001b[0m\u001b[0;34m)\u001b[0m \u001b[0;34m*\u001b[0m \u001b[0;34m(\u001b[0m\u001b[0mmath\u001b[0m\u001b[0;34m.\u001b[0m\u001b[0mcos\u001b[0m\u001b[0;34m(\u001b[0m\u001b[0mx\u001b[0m\u001b[0;34m/\u001b[0m\u001b[0;36m2\u001b[0m\u001b[0;34m)\u001b[0m\u001b[0;34m/\u001b[0m\u001b[0;34m(\u001b[0m\u001b[0mmath\u001b[0m\u001b[0;34m.\u001b[0m\u001b[0msqrt\u001b[0m\u001b[0;34m(\u001b[0m\u001b[0;36m1\u001b[0m\u001b[0;34m-\u001b[0m\u001b[0;34m(\u001b[0m\u001b[0mmath\u001b[0m\u001b[0;34m.\u001b[0m\u001b[0msin\u001b[0m\u001b[0;34m(\u001b[0m\u001b[0mx\u001b[0m\u001b[0;34m/\u001b[0m\u001b[0;36m2\u001b[0m\u001b[0;34m)\u001b[0m\u001b[0;34m/\u001b[0m\u001b[0ma\u001b[0m\u001b[0;34m)\u001b[0m\u001b[0;34m**\u001b[0m\u001b[0;36m2\u001b[0m\u001b[0;34m)\u001b[0m\u001b[0;34m*\u001b[0m\u001b[0mmath\u001b[0m\u001b[0;34m.\u001b[0m\u001b[0msqrt\u001b[0m\u001b[0;34m(\u001b[0m\u001b[0;36m1\u001b[0m\u001b[0;34m-\u001b[0m\u001b[0;34m(\u001b[0m\u001b[0mmath\u001b[0m\u001b[0;34m.\u001b[0m\u001b[0msin\u001b[0m\u001b[0;34m(\u001b[0m\u001b[0mx\u001b[0m\u001b[0;34m/\u001b[0m\u001b[0;36m2\u001b[0m\u001b[0;34m)\u001b[0m\u001b[0;34m)\u001b[0m\u001b[0;34m**\u001b[0m\u001b[0;36m2\u001b[0m\u001b[0;34m)\u001b[0m\u001b[0;34m)\u001b[0m\u001b[0;34m)\u001b[0m\u001b[0;34m\u001b[0m\u001b[0;34m\u001b[0m\u001b[0m\n\u001b[0m\u001b[1;32m     10\u001b[0m \u001b[0mml\u001b[0m\u001b[0;34m.\u001b[0m\u001b[0msimpson\u001b[0m\u001b[0;34m(\u001b[0m\u001b[0mf\u001b[0m\u001b[0;34m,\u001b[0m\u001b[0mlowlim\u001b[0m\u001b[0;34m,\u001b[0m\u001b[0mhighlim\u001b[0m\u001b[0;34m,\u001b[0m\u001b[0;36m10\u001b[0m\u001b[0;34m)\u001b[0m\u001b[0;34m\u001b[0m\u001b[0;34m\u001b[0m\u001b[0m\n",
      "\u001b[0;31mZeroDivisionError\u001b[0m: float division by zero"
     ]
    }
   ],
   "source": [
    "L=1\n",
    "g=9.8\n",
    "tm=math.pi/4\n",
    "a=math.sin(tm/2)\n",
    "lowlim=0\n",
    "highlim=tm\n",
    "\n",
    "# after solving the parameter we obtained this function, with the limits\n",
    "def f(x):\n",
    "    return 4*math.sqrt(L/g)*(1/(2*a)) * (math.cos(x/2)/(math.sqrt(1-(math.sin(x/2)/a)**2)*math.sqrt(1-(math.sin(x/2))**2)))\n",
    "ml.simpson(f,lowlim,highlim,10)"
   ]
  },
  {
   "cell_type": "markdown",
   "id": "596c32d8-5a9b-4d6d-8310-b67947dc27eb",
   "metadata": {},
   "source": [
    "# 5"
   ]
  },
  {
   "cell_type": "code",
   "execution_count": 6,
   "id": "cec25bb7-c5ca-49b8-9b33-754df415f686",
   "metadata": {},
   "outputs": [
    {
     "name": "stdout",
     "output_type": "stream",
     "text": [
      "maximum height is 4.99999999999999\n"
     ]
    },
    {
     "data": {
      "image/png": "[encoded data removed]",
      "text/plain": [
       "<Figure size 432x288 with 1 Axes>"
      ]
     },
     "metadata": {
      "needs_background": "light"
     },
     "output_type": "display_data"
    }
   ],
   "source": [
    "r=0.02\n",
    "g=10\n",
    "def dvdt(x,v):\n",
    "    return (-r-g/v)\n",
    "\n",
    "y,X,Y=ml.rk4(dvdt,0,10,5,0.05)\n",
    "plt.plot(X,Y)\n",
    "plt.xlabel('Height')\n",
    "plt.ylabel('velocity')\n",
    "\n",
    "maxval=X[0]\n",
    "for i in range(len(X)):\n",
    "    if X[i]>maxval:\n",
    "        maxval=X[i]\n",
    "\n",
    "print('maximum height is',maxval)"
   ]
  },
  {
   "cell_type": "markdown",
   "id": "352ec44c-2619-43eb-9188-c41fd7673907",
   "metadata": {},
   "source": [
    "# 2"
   ]
  },
  {
   "cell_type": "code",
   "execution_count": 10,
   "id": "939d8a54-f679-45c4-8dd0-46cc1df1e24c",
   "metadata": {},
   "outputs": [
    {
     "data": {
      "text/plain": [
       "<matplotlib.legend.Legend at 0x111ac2fd0>"
      ]
     },
     "execution_count": 10,
     "metadata": {},
     "output_type": "execute_result"
    },
    {
     "data": {
      "image/png": "[encoded data removed]",
      "text/plain": [
       "<Figure size 432x288 with 1 Axes>"
      ]
     },
     "metadata": {
      "needs_background": "light"
     },
     "output_type": "display_data"
    }
   ],
   "source": [
    "X,Y,time=ml.particles( 0, 4000, 5000, 5000, 0, 0.1)\n",
    "plt.plot(time,Y, label='particles on left')\n",
    "plt.scatter(time,Y)\n",
    "plt.plot(time,X, label='particles on right')\n",
    "plt.scatter(time,X)\n",
    "plt.xlabel('time')\n",
    "plt.ylabel('no. of particles')\n",
    "plt.legend()"
   ]
  },
  {
   "cell_type": "code",
   "execution_count": null,
   "id": "03a56e98-abec-4c00-8700-5de0338ddb2f",
   "metadata": {},
   "outputs": [],
   "source": []
  }
 ],
 "metadata": {
  "kernelspec": {
   "display_name": "Python 3 (ipykernel)",
   "language": "python",
   "name": "python3"
  },
  "language_info": {
   "codemirror_mode": {
    "name": "ipython",
    "version": 3
   },
   "file_extension": ".py",
   "mimetype": "text/x-python",
   "name": "python",
   "nbconvert_exporter": "python",
   "pygments_lexer": "ipython3",
   "version": "3.9.9"
  }
 },
 "nbformat": 4,
 "nbformat_minor": 5
}
