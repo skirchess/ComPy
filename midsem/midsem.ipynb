{
 "cells": [
  {
   "cell_type": "markdown",
   "id": "afcb899b-0ecd-4402-a924-d54c772e4095",
   "metadata": {},
   "source": [
    "# 2"
   ]
  },
  {
   "cell_type": "code",
   "execution_count": 116,
   "id": "c4c6a574-f504-41be-985f-1a5cb7383313",
   "metadata": {},
   "outputs": [],
   "source": [
    "import MyLibrary as ml\n",
    "import math\n",
    "def f(x):\n",
    "    return (x-5)*math.exp(x)+5\n",
    "\n",
    "def fd(x):\n",
    "    return ((x-5)+1)*math.exp(x)"
   ]
  },
  {
   "cell_type": "code",
   "execution_count": 117,
   "id": "c49cb5c2-2fd8-4fed-9196-05795f446757",
   "metadata": {},
   "outputs": [
    {
     "name": "stdout",
     "output_type": "stream",
     "text": [
      "b= 2.899010330737035e-07\n"
     ]
    }
   ],
   "source": [
    "x,count=ml.newraph(f,fd,5,0.0001,0.0001)\n",
    "x=float(x)\n",
    "h=6.626*10**(-34)\n",
    "k=1.381*10**(-23)\n",
    "c=3*10**8\n",
    "print('b=',h*c/(x*k)*10**(-4))"
   ]
  },
  {
   "cell_type": "markdown",
   "id": "bf76ba34-a026-4fbd-b0a2-c94fe9b86125",
   "metadata": {},
   "source": [
    "# 3"
   ]
  },
  {
   "cell_type": "code",
   "execution_count": 1,
   "id": "89b6d837-c32b-4505-9181-2f79462528c5",
   "metadata": {},
   "outputs": [
    {
     "name": "stdout",
     "output_type": "stream",
     "text": [
      "[[-2.0, 0.0, 0.0, -1.0, 0.0, 0.5], [0.0, 4.0, 0.5, 0.0, 1.0, 0.0], [0.0, 0.5, 1.5, 0.0, 0.0, 0.0], [-1.0, 0.0, 0.0, -2.0, 0.0, 1.0], [0.0, 1.0, 0.0, 0.0, -2.5, 0.0], [0.5, 0.0, 0.0, 1.0, 0.0, -3.75]]\n",
      "[[-1.0], [0.0], [2.75], [2.5], [-3.0], [2.0]]\n"
     ]
    }
   ],
   "source": [
    "with open('msem_gs.txt') as file:\n",
    "    a,b=[],[]\n",
    "    list3=[a,b]\n",
    "    j=0\n",
    "    for line in file:\n",
    "        line=line.strip().split() # split when there is an empty line\n",
    "        if len(line)!=0:\n",
    "            list3[j].append(line)\n",
    "        else:\n",
    "            j+=1\n",
    "\n",
    "    for i in range(len(list3)): # converting the list elements to matrix before & after the empty space\n",
    "        for j in range(len(list3[i])):\n",
    "            for k in range(len(list3[i][j])):\n",
    "                list3[i][j][k]=float(list3[i][j][k])\n",
    "                \n",
    "print(a)\n",
    "print(b)"
   ]
  },
  {
   "cell_type": "code",
   "execution_count": 2,
   "id": "53423522-a9db-4958-ad83-67083d8c5247",
   "metadata": {},
   "outputs": [
    {
     "name": "stdout",
     "output_type": "stream",
     "text": [
      "iterations= 13\n",
      "solution= [[1.4999998297596437], [-0.4999999999999992], [1.9999999999999998], [-2.4999999148640373], [1.0000000000000004], [-0.9999999999957907]]\n"
     ]
    }
   ],
   "source": [
    "import MyLibrary as ml \n",
    "ml.gauss_seidel(a,b)"
   ]
  },
  {
   "cell_type": "markdown",
   "id": "8fb480e1-ba22-460a-8591-2763a89dc657",
   "metadata": {},
   "source": [
    "# 4"
   ]
  },
  {
   "cell_type": "code",
   "execution_count": 8,
   "id": "271436d1-bf72-4fe6-a9d5-5505294ccd86",
   "metadata": {},
   "outputs": [
    {
     "name": "stdout",
     "output_type": "stream",
     "text": [
      "[2.5, 3.5, 5.0, 6.0, 7.5, 10.0, 12.5, 15.0, 17.5, 20.5]\n",
      "[13.0, 11.0, 8.5, 8.2, 7.0, 6.2, 5.2, 4.8, 4.6, 4.3]\n"
     ]
    },
    {
     "data": {
      "text/plain": [
       "<matplotlib.collections.PathCollection at 0x10e608a90>"
      ]
     },
     "execution_count": 8,
     "metadata": {},
     "output_type": "execute_result"
    },
    {
     "data": {
      "image/png": "[encoded data removed]",
      "text/plain": [
       "<Figure size 432x288 with 1 Axes>"
      ]
     },
     "metadata": {
      "needs_background": "light"
     },
     "output_type": "display_data"
    }
   ],
   "source": [
    "#for reading data from file \n",
    "data= [i.strip().split() for i in open(\"msem_fit.txt\").readlines()]\n",
    "x,y=[],[]\n",
    "for i in range(len(data)):\n",
    "    x.append(float(data[i][0]))\n",
    "    y.append(float(data[i][1]))\n",
    "print(x)\n",
    "print(y)\n",
    "import matplotlib.pyplot as plt\n",
    "plt.scatter(x,y)"
   ]
  },
  {
   "cell_type": "code",
   "execution_count": 5,
   "id": "9f70bc40-9870-4729-8212-98a35d4aa889",
   "metadata": {},
   "outputs": [
    {
     "name": "stdout",
     "output_type": "stream",
     "text": [
      "[0.9162907318741551, 1.252762968495368, 1.6094379124341003, 1.791759469228055, 2.0149030205422647, 2.302585092994046, 2.5257286443082556, 2.70805020110221, 2.8622008809294686, 3.0204248861443626] [2.5649493574615367, 2.3978952727983707, 2.1400661634962708, 2.1041341542702074, 1.9459101490553132, 1.824549292051046, 1.6486586255873816, 1.5686159179138452, 1.5260563034950492, 1.4586150226995167]\n"
     ]
    }
   ],
   "source": [
    "import math \n",
    "#power law\n",
    "for i in range(len(x)):\n",
    "    x[i]=math.log(x[i])\n",
    "    y[i]=math.log(y[i])\n",
    "print(x,y)"
   ]
  },
  {
   "cell_type": "code",
   "execution_count": 6,
   "id": "2bcbd4a4-4700-4b82-9608-f00cb222bd60",
   "metadata": {},
   "outputs": [
    {
     "data": {
      "text/plain": [
       "(3.0467272510281007, -0.53740930145056, 0.7750435352872259)"
      ]
     },
     "execution_count": 6,
     "metadata": {},
     "output_type": "execute_result"
    }
   ],
   "source": [
    "a1,a2,r2=ml.leastsq(x,y,w=[1 for i in range(len(x))])\n",
    "a1,a2,r2 # r2 is pearson's r"
   ]
  },
  {
   "cell_type": "code",
   "execution_count": 7,
   "id": "512be290-4b6d-4088-8279-b709ed9906c3",
   "metadata": {},
   "outputs": [
    {
     "data": {
      "text/plain": [
       "<matplotlib.collections.PathCollection at 0x10e579340>"
      ]
     },
     "execution_count": 7,
     "metadata": {},
     "output_type": "execute_result"
    },
    {
     "data": {
      "image/png": "[encoded data removed]",
      "text/plain": [
       "<Figure size 432x288 with 1 Axes>"
      ]
     },
     "metadata": {
      "needs_background": "light"
     },
     "output_type": "display_data"
    }
   ],
   "source": [
    "v=[]\n",
    "h=[x * 0.1 for x in range(40)]\n",
    "\n",
    "def fl(a1,a2,x):\n",
    "    return a1+a2*x\n",
    "\n",
    "for i in range(len(h)):\n",
    "    j=fl(a1,a2,h[i])\n",
    "    v.append(j)\n",
    "\n",
    "    \n",
    "import matplotlib.pyplot as plt\n",
    "plt.plot(h,v,'r')\n",
    "plt.scatter(x,y)"
   ]
  },
  {
   "cell_type": "code",
   "execution_count": 9,
   "id": "f2150867-910b-46a2-ad5e-65478b86d94f",
   "metadata": {},
   "outputs": [
    {
     "name": "stdout",
     "output_type": "stream",
     "text": [
      "[2.5, 3.5, 5.0, 6.0, 7.5, 10.0, 12.5, 15.0, 17.5, 20.5] [2.5649493574615367, 2.3978952727983707, 2.1400661634962708, 2.1041341542702074, 1.9459101490553132, 1.824549292051046, 1.6486586255873816, 1.5686159179138452, 1.5260563034950492, 1.4586150226995167]\n"
     ]
    }
   ],
   "source": [
    "import math\n",
    "for i in range(len(x)):\n",
    "    y[i]=math.log(y[i])\n",
    "print(x,y)"
   ]
  },
  {
   "cell_type": "code",
   "execution_count": 10,
   "id": "16e42314-c41d-415c-bcbd-770ca0a974a1",
   "metadata": {},
   "outputs": [
    {
     "data": {
      "text/plain": [
       "(2.5025003706646873, -0.05845553447818332, 0.5762426888065756)"
      ]
     },
     "execution_count": 10,
     "metadata": {},
     "output_type": "execute_result"
    }
   ],
   "source": [
    "a1,a2,r2=ml.leastsq(x,y,w=[1 for i in range(len(x))])\n",
    "a1,a2,r2 # r2 is pearson's r"
   ]
  },
  {
   "cell_type": "code",
   "execution_count": 18,
   "id": "6c100806-0bfb-4b29-9a9b-91cb8df9f1a1",
   "metadata": {},
   "outputs": [
    {
     "data": {
      "text/plain": [
       "Text(1.2, 1, 'here pearsons coeff is smaller than power law, so fit with power law is better')"
      ]
     },
     "execution_count": 18,
     "metadata": {},
     "output_type": "execute_result"
    },
    {
     "data": {
      "image/png": "[encoded data removed]",
      "text/plain": [
       "<Figure size 432x288 with 1 Axes>"
      ]
     },
     "metadata": {
      "needs_background": "light"
     },
     "output_type": "display_data"
    }
   ],
   "source": [
    "v=[]\n",
    "h=[x * 0.1 for x in range(200)]\n",
    "\n",
    "def fl(a1,a2,x):\n",
    "    return a1+a2*x\n",
    "\n",
    "for i in range(len(h)):\n",
    "    j=fl(a1,a2,h[i])\n",
    "    v.append(j)\n",
    "    \n",
    "import matplotlib.pyplot as plt\n",
    "plt.plot(h,v,'r')\n",
    "plt.scatter(x,y)\n",
    "plt.text(1.2,1,'here pearsons coeff is smaller than power law, so fit with power law is better')"
   ]
  },
  {
   "cell_type": "code",
   "execution_count": null,
   "id": "b4d8684d-2fde-423b-80e4-e788700f70ce",
   "metadata": {},
   "outputs": [],
   "source": []
  },
  {
   "cell_type": "markdown",
   "id": "76c9a059-49db-427c-89e8-e68fc0915863",
   "metadata": {},
   "source": [
    "# 1"
   ]
  },
  {
   "cell_type": "code",
   "execution_count": 19,
   "id": "89a24626-24bc-41fa-909e-9713a77c8cf0",
   "metadata": {},
   "outputs": [
    {
     "data": {
      "text/plain": [
       "[1103515245.0, 12345.0, 32768.0, 10.0, 3000000.0]"
      ]
     },
     "execution_count": 19,
     "metadata": {},
     "output_type": "execute_result"
    }
   ],
   "source": [
    "import MyLibrary as ml\n",
    "with open('lcginput.txt') as f: # input_3.txt contains input for all the questions\n",
    "    lines = [ line.strip() for line in f ]\n",
    "    list1=[]\n",
    "    for k in lines:\n",
    "        list1.append(float(k))\n",
    "        \n",
    "list1"
   ]
  },
  {
   "cell_type": "code",
   "execution_count": 21,
   "id": "97e0b476-d71e-4f64-b892-c9388bc4b9a9",
   "metadata": {},
   "outputs": [
    {
     "name": "stdout",
     "output_type": "stream",
     "text": [
      "1177982\n"
     ]
    },
    {
     "data": {
      "text/plain": [
       "0.7853213333333333"
      ]
     },
     "execution_count": 21,
     "metadata": {},
     "output_type": "execute_result"
    }
   ],
   "source": [
    "randnum=ml.lcg(list1[0],list1[1],list1[2],list1[3],list1[4])\n",
    "\n",
    "x,y=[],[]\n",
    "n=int(len(randnum)/2)\n",
    "for i in range(n):\n",
    "    x.append(4*(randnum[i]/list1[2])-2)#dividing random numbers by m ,x b/w -2,2\n",
    "\n",
    "for i in range(n,2*n):\n",
    "    y.append(2*(randnum[i]/list1[2])-1)#dividing random numbers by m , y b/w -1,1\n",
    "\n",
    "#Throwing Method\n",
    "counter=0\n",
    "for i in range(len(x)): \n",
    "    if ((x[i]/2)**2)+(y[i])**2<=1:\n",
    "        counter+=1\n",
    "print(counter)\n",
    "area=counter/len(x)#len(x) is total trails\n",
    "area"
   ]
  },
  {
   "cell_type": "code",
   "execution_count": null,
   "id": "ab35b0ad-92d4-4f8f-a84e-8e3d9313e5f5",
   "metadata": {},
   "outputs": [],
   "source": []
  }
 ],
 "metadata": {
  "kernelspec": {
   "display_name": "Python 3 (ipykernel)",
   "language": "python",
   "name": "python3"
  },
  "language_info": {
   "codemirror_mode": {
    "name": "ipython",
    "version": 3
   },
   "file_extension": ".py",
   "mimetype": "text/x-python",
   "name": "python",
   "nbconvert_exporter": "python",
   "pygments_lexer": "ipython3",
   "version": "3.9.9"
  }
 },
 "nbformat": 4,
 "nbformat_minor": 5
}
